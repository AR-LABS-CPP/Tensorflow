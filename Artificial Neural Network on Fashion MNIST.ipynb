{
  "nbformat": 4,
  "nbformat_minor": 0,
  "metadata": {
    "colab": {
      "name": "NN Fashion MNIST.ipynb",
      "provenance": [],
      "collapsed_sections": []
    },
    "kernelspec": {
      "name": "python3",
      "display_name": "Python 3"
    },
    "language_info": {
      "name": "python"
    }
  },
  "cells": [
    {
      "cell_type": "code",
      "execution_count": 2,
      "metadata": {
        "id": "qzWoeVjCZTKb"
      },
      "outputs": [],
      "source": [
        "import tensorflow as tf"
      ]
    },
    {
      "cell_type": "code",
      "source": [
        "# We need to get the fashion mnist dataset from keras datasets\n",
        "from tensorflow.keras.datasets import fashion_mnist"
      ],
      "metadata": {
        "id": "RYiI9-Rnd_LP"
      },
      "execution_count": 3,
      "outputs": []
    },
    {
      "cell_type": "code",
      "source": [
        "# call the load_data() function in order to download the dataset\n",
        "(train_data, train_labels), (test_data, test_labels) = fashion_mnist.load_data()"
      ],
      "metadata": {
        "colab": {
          "base_uri": "https://localhost:8080/"
        },
        "id": "_svl1oo9eBtt",
        "outputId": "47e2d7b2-bb4e-4698-f584-cd0168e4cd3f"
      },
      "execution_count": 4,
      "outputs": [
        {
          "output_type": "stream",
          "name": "stdout",
          "text": [
            "Downloading data from https://storage.googleapis.com/tensorflow/tf-keras-datasets/train-labels-idx1-ubyte.gz\n",
            "32768/29515 [=================================] - 0s 0us/step\n",
            "40960/29515 [=========================================] - 0s 0us/step\n",
            "Downloading data from https://storage.googleapis.com/tensorflow/tf-keras-datasets/train-images-idx3-ubyte.gz\n",
            "26427392/26421880 [==============================] - 0s 0us/step\n",
            "26435584/26421880 [==============================] - 0s 0us/step\n",
            "Downloading data from https://storage.googleapis.com/tensorflow/tf-keras-datasets/t10k-labels-idx1-ubyte.gz\n",
            "16384/5148 [===============================================================================================] - 0s 0us/step\n",
            "Downloading data from https://storage.googleapis.com/tensorflow/tf-keras-datasets/t10k-images-idx3-ubyte.gz\n",
            "4423680/4422102 [==============================] - 0s 0us/step\n",
            "4431872/4422102 [==============================] - 0s 0us/step\n"
          ]
        }
      ]
    },
    {
      "cell_type": "code",
      "source": [
        "# 60000 images, where each image is 28 x 28 pixels\n",
        "train_data.shape"
      ],
      "metadata": {
        "colab": {
          "base_uri": "https://localhost:8080/"
        },
        "id": "RMiYZhv5eG_s",
        "outputId": "a6c6dfd7-0e3d-4c57-d502-45f2da64bbae"
      },
      "execution_count": 5,
      "outputs": [
        {
          "output_type": "execute_result",
          "data": {
            "text/plain": [
              "(60000, 28, 28)"
            ]
          },
          "metadata": {},
          "execution_count": 5
        }
      ]
    },
    {
      "cell_type": "code",
      "source": [
        "import matplotlib.pyplot as plt"
      ],
      "metadata": {
        "id": "Wd7eDVWoeKeQ"
      },
      "execution_count": 6,
      "outputs": []
    },
    {
      "cell_type": "code",
      "source": [
        "# These are all the class names from fashion mnist data\n",
        "class_names = ['T-shirt/top', 'Trouser', 'Pullover', 'Dress',\n",
        "               'Coat', 'Sandal', 'Shirt', 'Sneaker', 'Bag',\n",
        "               'Ankle boot']"
      ],
      "metadata": {
        "id": "lJ86BS8HeUe9"
      },
      "execution_count": 7,
      "outputs": []
    },
    {
      "cell_type": "code",
      "source": [
        "import random"
      ],
      "metadata": {
        "id": "mPEV0hXHfciQ"
      },
      "execution_count": 9,
      "outputs": []
    },
    {
      "cell_type": "code",
      "source": [
        "import pandas as pd"
      ],
      "metadata": {
        "id": "oOVL4ieJh_ai"
      },
      "execution_count": 13,
      "outputs": []
    },
    {
      "cell_type": "code",
      "source": [
        "# Normalize the data so that each pixel is between the value of 0 and 1\n",
        "train_data_norm = train_data / 255.0\n",
        "test_data_norm = test_data / 255.0"
      ],
      "metadata": {
        "id": "qegtU0YEjUY0"
      },
      "execution_count": 16,
      "outputs": []
    },
    {
      "cell_type": "code",
      "source": [
        "# As we can see the min and max values are now 0 and 1 respectively\n",
        "train_data_norm.max(), train_data_norm.min()"
      ],
      "metadata": {
        "colab": {
          "base_uri": "https://localhost:8080/"
        },
        "id": "5wlgvkgij9k_",
        "outputId": "55aab1a0-1e27-44df-a467-30694399af55"
      },
      "execution_count": 17,
      "outputs": [
        {
          "output_type": "execute_result",
          "data": {
            "text/plain": [
              "(1.0, 0.0)"
            ]
          },
          "metadata": {},
          "execution_count": 17
        }
      ]
    },
    {
      "cell_type": "code",
      "source": [
        "# Create the model with two hidden layers where the first hidden layer has 4\n",
        "# neurons and the second hidden layer has 2 neurons, note that the output\n",
        "# layer has 10 neurons because we have 10 items in our dataset (refer to the\n",
        "# class names). Since the problem is multi class i.e. more 2 item to predict\n",
        "# from that is why we have used \"softmax\" as our activation function\n",
        "model = tf.keras.Sequential([\n",
        "    tf.keras.layers.Flatten(input_shape=(28, 28)),\n",
        "    tf.keras.layers.Dense(4, activation='selu'),\n",
        "    tf.keras.layers.Dense(2, activation='selu'),\n",
        "    tf.keras.layers.Dense(10, activation='softmax')\n",
        "])\n",
        "\n",
        "# We need to compile the model. Here we use categorical cross\n",
        "# entropy because the problem is categorical and not binary since\n",
        "# there are more than 2 classes in our dataset. For the optimizer, we \n",
        "# will use the good ol' Adam\n",
        "model.compile(\n",
        "    loss=tf.keras.losses.sparse_categorical_crossentropy,\n",
        "    optimizer=tf.keras.optimizers.Adam(),\n",
        "    metrics=['accuracy']\n",
        ")"
      ],
      "metadata": {
        "id": "oYO6aKRqkA2G"
      },
      "execution_count": 18,
      "outputs": []
    },
    {
      "cell_type": "code",
      "source": [
        "# Fit the model and save the curves in history variable\n",
        "history = model.fit(train_data_norm, train_labels,\n",
        "                    epochs=10, validation_data=(test_data_norm, test_labels))"
      ],
      "metadata": {
        "colab": {
          "base_uri": "https://localhost:8080/"
        },
        "id": "FreGJ8QfkGn6",
        "outputId": "27d3944b-b48e-4087-feaf-0f3713add4f7"
      },
      "execution_count": 19,
      "outputs": [
        {
          "output_type": "stream",
          "name": "stdout",
          "text": [
            "Epoch 1/10\n",
            "1875/1875 [==============================] - 5s 2ms/step - loss: 1.4343 - accuracy: 0.4953 - val_loss: 1.1353 - val_accuracy: 0.5935\n",
            "Epoch 2/10\n",
            "1875/1875 [==============================] - 3s 2ms/step - loss: 1.0570 - accuracy: 0.6472 - val_loss: 1.0133 - val_accuracy: 0.6703\n",
            "Epoch 3/10\n",
            "1875/1875 [==============================] - 3s 2ms/step - loss: 0.9734 - accuracy: 0.6829 - val_loss: 0.9638 - val_accuracy: 0.6905\n",
            "Epoch 4/10\n",
            "1875/1875 [==============================] - 3s 2ms/step - loss: 0.9260 - accuracy: 0.6991 - val_loss: 0.9290 - val_accuracy: 0.6983\n",
            "Epoch 5/10\n",
            "1875/1875 [==============================] - 3s 2ms/step - loss: 0.8871 - accuracy: 0.7140 - val_loss: 0.9366 - val_accuracy: 0.6964\n",
            "Epoch 6/10\n",
            "1875/1875 [==============================] - 5s 3ms/step - loss: 0.8526 - accuracy: 0.7248 - val_loss: 0.8775 - val_accuracy: 0.7176\n",
            "Epoch 7/10\n",
            "1875/1875 [==============================] - 6s 3ms/step - loss: 0.8212 - accuracy: 0.7358 - val_loss: 0.8513 - val_accuracy: 0.7284\n",
            "Epoch 8/10\n",
            "1875/1875 [==============================] - 5s 2ms/step - loss: 0.7947 - accuracy: 0.7447 - val_loss: 0.8336 - val_accuracy: 0.7359\n",
            "Epoch 9/10\n",
            "1875/1875 [==============================] - 3s 2ms/step - loss: 0.7774 - accuracy: 0.7510 - val_loss: 0.8187 - val_accuracy: 0.7367\n",
            "Epoch 10/10\n",
            "1875/1875 [==============================] - 3s 2ms/step - loss: 0.7607 - accuracy: 0.7559 - val_loss: 0.8064 - val_accuracy: 0.7447\n"
          ]
        }
      ]
    },
    {
      "cell_type": "code",
      "source": [
        "# As we can see, the loss and validation loss started to decrease as\n",
        "# our model progressed but at some point the validation loss curve\n",
        "# starts to go higher which indicates overfitting i.e. our model\n",
        "# is trying to memorize the train data and will not perform well\n",
        "# on newly unseen data\n",
        "pd.DataFrame(history.history)[['loss', 'val_loss']].plot()"
      ],
      "metadata": {
        "colab": {
          "base_uri": "https://localhost:8080/",
          "height": 282
        },
        "id": "Q_0pdYH5kNnJ",
        "outputId": "0d4aa5c3-0e58-4fa2-8bb7-14f9f15b8faf"
      },
      "execution_count": 20,
      "outputs": [
        {
          "output_type": "execute_result",
          "data": {
            "text/plain": [
              "<matplotlib.axes._subplots.AxesSubplot at 0x7f8429c86810>"
            ]
          },
          "metadata": {},
          "execution_count": 20
        },
        {
          "output_type": "display_data",
          "data": {
            "text/plain": [
              "<Figure size 432x288 with 1 Axes>"
            ],
            "image/png": "[encoded data removed]"
          },
          "metadata": {
            "needs_background": "light"
          }
        }
      ]
    },
    {
      "cell_type": "code",
      "source": [
        "# Get predictions from our model\n",
        "predictions = (model.predict(test_data_norm) > 0.5).astype('int32')"
      ],
      "metadata": {
        "id": "j-62MaJokoof"
      },
      "execution_count": 21,
      "outputs": []
    },
    {
      "cell_type": "code",
      "source": [
        "class_names[predictions[0].argmax()]"
      ],
      "metadata": {
        "colab": {
          "base_uri": "https://localhost:8080/",
          "height": 35
        },
        "id": "ChwnTQdNkyQP",
        "outputId": "68b57b7a-1465-41fb-f7bf-c7ef1d114024"
      },
      "execution_count": 22,
      "outputs": [
        {
          "output_type": "execute_result",
          "data": {
            "text/plain": [
              "'Ankle boot'"
            ],
            "application/vnd.google.colaboratory.intrinsic+json": {
              "type": "string"
            }
          },
          "metadata": {},
          "execution_count": 22
        }
      ]
    },
    {
      "cell_type": "code",
      "source": [
        "len(predictions)"
      ],
      "metadata": {
        "colab": {
          "base_uri": "https://localhost:8080/"
        },
        "id": "pkGD13fNk4b8",
        "outputId": "f718174b-53b4-4b71-beee-de5f16dc5449"
      },
      "execution_count": 23,
      "outputs": [
        {
          "output_type": "execute_result",
          "data": {
            "text/plain": [
              "10000"
            ]
          },
          "metadata": {},
          "execution_count": 23
        }
      ]
    },
    {
      "cell_type": "code",
      "source": [
        "# Randomly plot out 20 images and also what the\n",
        "# model predicted it to be.\n",
        "\n",
        "plt.figure(figsize=(8, 8))\n",
        "\n",
        "for i in range(20):\n",
        "  ax = plt.subplot(4, 5, i + 1)\n",
        "  rand_index = random.choice(range(len(predictions)))\n",
        "  plt.imshow(test_data[rand_index], cmap=plt.cm.binary)\n",
        "  plt.title(class_names[predictions[rand_index].argmax()])\n",
        "  plt.axis(False)\n",
        "\n",
        "plt.tight_layout()"
      ],
      "metadata": {
        "colab": {
          "base_uri": "https://localhost:8080/",
          "height": 566
        },
        "id": "Tc99C1GdlBfs",
        "outputId": "c3310843-28d0-48cf-ee23-0161af215150"
      },
      "execution_count": 24,
      "outputs": [
        {
          "output_type": "display_data",
          "data": {
            "text/plain": [
              "<Figure size 576x576 with 20 Axes>"
            ],
            "image/png": "[encoded data removed]"
          },
          "metadata": {
            "needs_background": "light"
          }
        }
      ]
    }
  ]
}