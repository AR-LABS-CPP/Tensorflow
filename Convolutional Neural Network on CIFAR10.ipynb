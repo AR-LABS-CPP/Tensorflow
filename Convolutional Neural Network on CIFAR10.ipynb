{
  "nbformat": 4,
  "nbformat_minor": 0,
  "metadata": {
    "colab": {
      "name": "CNN CIFAR.ipynb",
      "provenance": [],
      "collapsed_sections": []
    },
    "kernelspec": {
      "name": "python3",
      "display_name": "Python 3"
    },
    "language_info": {
      "name": "python"
    },
    "accelerator": "GPU",
    "gpuClass": "standard"
  },
  "cells": [
    {
      "cell_type": "code",
      "execution_count": null,
      "metadata": {
        "id": "RR9G67FemMOp"
      },
      "outputs": [],
      "source": [
        "import tensorflow as tf"
      ]
    },
    {
      "cell_type": "code",
      "source": [
        "import numpy as np \n",
        "import pandas as pd\n",
        "import matplotlib.pyplot as plt"
      ],
      "metadata": {
        "id": "6lNjKq-rmP_W"
      },
      "execution_count": null,
      "outputs": []
    },
    {
      "cell_type": "code",
      "source": [
        "# Load the CIFAR10 dataset from keras datasets\n",
        "(X_train, y_train), (X_test, y_test) = tf.keras.datasets.cifar10.load_data()"
      ],
      "metadata": {
        "colab": {
          "base_uri": "https://localhost:8080/"
        },
        "id": "7Xy-_TwsmW41",
        "outputId": "0fc919e9-cd35-420d-dcfe-adb317614d76"
      },
      "execution_count": null,
      "outputs": [
        {
          "output_type": "stream",
          "name": "stdout",
          "text": [
            "Downloading data from https://www.cs.toronto.edu/~kriz/cifar-10-python.tar.gz\n",
            "170500096/170498071 [==============================] - 2s 0us/step\n",
            "170508288/170498071 [==============================] - 2s 0us/step\n"
          ]
        }
      ]
    },
    {
      "cell_type": "code",
      "source": [
        "# 50,000 images where each image is of 32 x 32 pixels and the last 3 is\n",
        "# the number of channels (Red, Green, Blue)\n",
        "X_train.shape"
      ],
      "metadata": {
        "colab": {
          "base_uri": "https://localhost:8080/"
        },
        "id": "2AQ-Hr5tmdlI",
        "outputId": "357e7d5b-b2c6-4a50-dced-7c593131ca05"
      },
      "execution_count": null,
      "outputs": [
        {
          "output_type": "execute_result",
          "data": {
            "text/plain": [
              "(50000, 32, 32, 3)"
            ]
          },
          "metadata": {},
          "execution_count": 4
        }
      ]
    },
    {
      "cell_type": "code",
      "source": [
        "y_train.shape"
      ],
      "metadata": {
        "colab": {
          "base_uri": "https://localhost:8080/"
        },
        "id": "qnD1R-APmfbB",
        "outputId": "1d229d55-06b8-44d2-f56d-e4f2052a774b"
      },
      "execution_count": null,
      "outputs": [
        {
          "output_type": "execute_result",
          "data": {
            "text/plain": [
              "(50000, 1)"
            ]
          },
          "metadata": {},
          "execution_count": 5
        }
      ]
    },
    {
      "cell_type": "code",
      "source": [
        "# Let's get an image from the dataset (It's a truck)\n",
        "# as a human we can tell that but the model doesn't \n",
        "# have eyes like us\n",
        "plt.imshow(X_train[15])"
      ],
      "metadata": {
        "colab": {
          "base_uri": "https://localhost:8080/",
          "height": 283
        },
        "id": "8JuzHEy2mgXI",
        "outputId": "b6496988-9520-4f83-95f8-b0f8b42a3f89"
      },
      "execution_count": null,
      "outputs": [
        {
          "output_type": "execute_result",
          "data": {
            "text/plain": [
              "<matplotlib.image.AxesImage at 0x7f177edc9ad0>"
            ]
          },
          "metadata": {},
          "execution_count": 13
        },
        {
          "output_type": "display_data",
          "data": {
            "text/plain": [
              "<Figure size 432x288 with 1 Axes>"
            ],
            "image/png": "[encoded data removed]"
          },
          "metadata": {
            "needs_background": "light"
          }
        }
      ]
    },
    {
      "cell_type": "code",
      "source": [
        "# Normalize the train data so that every pixel falls\n",
        "# under the range of 0 and 1 (inclusive)\n",
        "X_train = X_train / 255"
      ],
      "metadata": {
        "id": "CPSbf-g7miv7"
      },
      "execution_count": null,
      "outputs": []
    },
    {
      "cell_type": "code",
      "source": [
        "# Same for the test data\n",
        "X_test = X_test / 255"
      ],
      "metadata": {
        "id": "XrizpkQ7m1fd"
      },
      "execution_count": null,
      "outputs": []
    },
    {
      "cell_type": "code",
      "source": [
        "# We need to one hot encode the labels since our \n",
        "# model can only train on numbers and not alphabetical\n",
        "#values\n",
        "y_train_cat = tf.keras.utils.to_categorical(y_train, 10)"
      ],
      "metadata": {
        "id": "BBOnOK6Vm3bv"
      },
      "execution_count": null,
      "outputs": []
    },
    {
      "cell_type": "code",
      "source": [
        "# Same for the test data\n",
        "y_test_cat = tf.keras.utils.to_categorical(y_test, 10)"
      ],
      "metadata": {
        "id": "H0BEgLwBnB_E"
      },
      "execution_count": null,
      "outputs": []
    },
    {
      "cell_type": "code",
      "source": [
        "# Our model is structured like this\n",
        "# Conv -> Pool -> Conv -> Pool\n",
        "\n",
        "model = tf.keras.Sequential()\n",
        "\n",
        "# CONVOLUTIONAL LAYER\n",
        "model.add(tf.keras.layers.Conv2D(filters=32, kernel_size=(4,4),\n",
        "                                 input_shape=(32, 32, 3),\n",
        "                                 activation='relu'))\n",
        "# POOLING LAYER\n",
        "model.add(tf.keras.layers.MaxPool2D(pool_size=(2, 2)))\n",
        "\n",
        "# CONVOLUTIONAL LAYER\n",
        "model.add(tf.keras.layers.Conv2D(filters=32, kernel_size=(4,4),\n",
        "                                 input_shape=(32, 32, 3),\n",
        "                                 activation='relu'))\n",
        "# POOLING LAYER\n",
        "model.add(tf.keras.layers.MaxPool2D(pool_size=(2, 2)))\n",
        "\n",
        "# Flatten our the data that is coming from the pooling layer\n",
        "model.add(tf.keras.layers.Flatten())\n",
        "\n",
        "model.add(tf.keras.layers.Dense(256, activation='relu'))\n",
        "\n",
        "# Multi class problems need softmax activation\n",
        "model.add(tf.keras.layers.Dense(10, activation='softmax'))\n",
        "\n",
        "# We are using categorical cross entropy because \n",
        "# the problem is multi class where the number\n",
        "# of classes are greater than 2\n",
        "model.compile(\n",
        "    loss = tf.keras.losses.categorical_crossentropy,\n",
        "    optimizer = tf.keras.optimizers.Adam(),\n",
        "    metrics = ['accuracy']\n",
        ")"
      ],
      "metadata": {
        "id": "JnuITqrhnE6c"
      },
      "execution_count": null,
      "outputs": []
    },
    {
      "cell_type": "code",
      "source": [
        "# Early stopping in order to avoid over fitting\n",
        "# on our training data\n",
        "early_stop = tf.keras.callbacks.EarlyStopping(\n",
        "    monitor='val_loss',\n",
        "    patience=2\n",
        ")"
      ],
      "metadata": {
        "id": "7g5D7KukoNjV"
      },
      "execution_count": null,
      "outputs": []
    },
    {
      "cell_type": "code",
      "source": [
        "# Let's train the model for 15 epochs\n",
        "model.fit(X_train, y_train_cat, epochs=15,\n",
        "          validation_data=(X_test, y_test_cat),\n",
        "          callbacks=[early_stop])"
      ],
      "metadata": {
        "colab": {
          "base_uri": "https://localhost:8080/"
        },
        "id": "LUlmSl8uoUAA",
        "outputId": "7362345c-b2cf-4094-c1af-ed745e7c2f8b"
      },
      "execution_count": null,
      "outputs": [
        {
          "output_type": "stream",
          "name": "stdout",
          "text": [
            "Epoch 1/15\n",
            "1563/1563 [==============================] - 19s 5ms/step - loss: 1.5077 - accuracy: 0.4571 - val_loss: 1.3210 - val_accuracy: 0.5253\n",
            "Epoch 2/15\n",
            "1563/1563 [==============================] - 8s 5ms/step - loss: 1.1861 - accuracy: 0.5805 - val_loss: 1.1048 - val_accuracy: 0.6194\n",
            "Epoch 3/15\n",
            "1563/1563 [==============================] - 7s 5ms/step - loss: 1.0366 - accuracy: 0.6407 - val_loss: 1.0344 - val_accuracy: 0.6450\n",
            "Epoch 4/15\n",
            "1563/1563 [==============================] - 8s 5ms/step - loss: 0.9243 - accuracy: 0.6765 - val_loss: 1.0439 - val_accuracy: 0.6401\n",
            "Epoch 5/15\n",
            "1563/1563 [==============================] - 8s 5ms/step - loss: 0.8312 - accuracy: 0.7087 - val_loss: 1.0263 - val_accuracy: 0.6545\n",
            "Epoch 6/15\n",
            "1563/1563 [==============================] - 7s 5ms/step - loss: 0.7558 - accuracy: 0.7350 - val_loss: 1.0070 - val_accuracy: 0.6611\n",
            "Epoch 7/15\n",
            "1563/1563 [==============================] - 8s 5ms/step - loss: 0.6840 - accuracy: 0.7590 - val_loss: 0.9904 - val_accuracy: 0.6681\n",
            "Epoch 8/15\n",
            "1563/1563 [==============================] - 7s 4ms/step - loss: 0.6189 - accuracy: 0.7810 - val_loss: 1.0934 - val_accuracy: 0.6518\n",
            "Epoch 9/15\n",
            "1563/1563 [==============================] - 7s 5ms/step - loss: 0.5593 - accuracy: 0.8030 - val_loss: 1.0586 - val_accuracy: 0.6639\n"
          ]
        },
        {
          "output_type": "execute_result",
          "data": {
            "text/plain": [
              "<keras.callbacks.History at 0x7f73ac1a8ed0>"
            ]
          },
          "metadata": {},
          "execution_count": 10
        }
      ]
    },
    {
      "cell_type": "code",
      "source": [
        "# Get the loss curves\n",
        "metrics = pd.DataFrame(model.history.history)"
      ],
      "metadata": {
        "id": "ArqH2GLmob2P"
      },
      "execution_count": null,
      "outputs": []
    },
    {
      "cell_type": "code",
      "source": [
        "# Our model is overfitting like hell.\n",
        "metrics[['loss', 'val_loss']].plot()"
      ],
      "metadata": {
        "colab": {
          "base_uri": "https://localhost:8080/",
          "height": 282
        },
        "id": "8tgocjScpGw7",
        "outputId": "ced348d0-5bfa-46df-f715-78fdbe3460c4"
      },
      "execution_count": null,
      "outputs": [
        {
          "output_type": "execute_result",
          "data": {
            "text/plain": [
              "<matplotlib.axes._subplots.AxesSubplot at 0x7f739657f550>"
            ]
          },
          "metadata": {},
          "execution_count": 12
        },
        {
          "output_type": "display_data",
          "data": {
            "text/plain": [
              "<Figure size 432x288 with 1 Axes>"
            ],
            "image/png": "[encoded data removed]"
          },
          "metadata": {
            "needs_background": "light"
          }
        }
      ]
    },
    {
      "cell_type": "code",
      "source": [
        "# Seems like validation accuracy like the lower part of the plot\n",
        "metrics[['accuracy', 'val_accuracy']].plot()"
      ],
      "metadata": {
        "colab": {
          "base_uri": "https://localhost:8080/",
          "height": 282
        },
        "id": "DwZojWVHpKjA",
        "outputId": "a91aa48c-f790-487a-e1a5-dc01a2e4ce84"
      },
      "execution_count": null,
      "outputs": [
        {
          "output_type": "execute_result",
          "data": {
            "text/plain": [
              "<matplotlib.axes._subplots.AxesSubplot at 0x7f7396433d90>"
            ]
          },
          "metadata": {},
          "execution_count": 13
        },
        {
          "output_type": "display_data",
          "data": {
            "text/plain": [
              "<Figure size 432x288 with 1 Axes>"
            ],
            "image/png": "[encoded data removed]"
          },
          "metadata": {
            "needs_background": "light"
          }
        }
      ]
    },
    {
      "cell_type": "code",
      "source": [
        "from sklearn.metrics import classification_report"
      ],
      "metadata": {
        "id": "1OmKagTWpPdF"
      },
      "execution_count": null,
      "outputs": []
    },
    {
      "cell_type": "code",
      "source": [
        "model.evaluate(X_test, y_test_cat, verbose=0)"
      ],
      "metadata": {
        "colab": {
          "base_uri": "https://localhost:8080/"
        },
        "id": "cpcuzj-Xpcig",
        "outputId": "600dfcaa-7c5c-4c9a-d81d-7e2500381e03"
      },
      "execution_count": null,
      "outputs": [
        {
          "output_type": "execute_result",
          "data": {
            "text/plain": [
              "[1.0586154460906982, 0.6639000177383423]"
            ]
          },
          "metadata": {},
          "execution_count": 15
        }
      ]
    },
    {
      "cell_type": "code",
      "source": [
        "predictions = (model.predict(X_test) > 0.5).astype('int32')"
      ],
      "metadata": {
        "id": "N9WXd2S-pffs"
      },
      "execution_count": null,
      "outputs": []
    },
    {
      "cell_type": "code",
      "source": [
        "# Overall confidence of the model each class\n",
        "# Looks like our model is not very confident\n",
        "# on number \"5\" which is dog (google the class names)\n",
        "print(classification_report(y_test_cat, predictions))"
      ],
      "metadata": {
        "colab": {
          "base_uri": "https://localhost:8080/"
        },
        "id": "aaa-mirypnCB",
        "outputId": "aac515f0-b83a-4756-bf2f-bc16f9dc76dc"
      },
      "execution_count": null,
      "outputs": [
        {
          "output_type": "stream",
          "name": "stdout",
          "text": [
            "              precision    recall  f1-score   support\n",
            "\n",
            "           0       0.73      0.73      0.73      1000\n",
            "           1       0.86      0.71      0.78      1000\n",
            "           2       0.62      0.56      0.59      1000\n",
            "           3       0.56      0.38      0.46      1000\n",
            "           4       0.68      0.53      0.59      1000\n",
            "           5       0.63      0.47      0.54      1000\n",
            "           6       0.86      0.62      0.72      1000\n",
            "           7       0.74      0.70      0.72      1000\n",
            "           8       0.80      0.75      0.78      1000\n",
            "           9       0.80      0.67      0.73      1000\n",
            "\n",
            "   micro avg       0.73      0.61      0.67     10000\n",
            "   macro avg       0.73      0.61      0.66     10000\n",
            "weighted avg       0.73      0.61      0.66     10000\n",
            " samples avg       0.61      0.61      0.61     10000\n",
            "\n"
          ]
        },
        {
          "output_type": "stream",
          "name": "stderr",
          "text": [
            "/usr/local/lib/python3.7/dist-packages/sklearn/metrics/_classification.py:1318: UndefinedMetricWarning: Precision and F-score are ill-defined and being set to 0.0 in samples with no predicted labels. Use `zero_division` parameter to control this behavior.\n",
            "  _warn_prf(average, modifier, msg_start, len(result))\n"
          ]
        }
      ]
    },
    {
      "cell_type": "code",
      "source": [
        "random_image = X_test[16]"
      ],
      "metadata": {
        "id": "jfSOP3StpqEW"
      },
      "execution_count": null,
      "outputs": []
    },
    {
      "cell_type": "code",
      "source": [
        "# Model is predicting 5 which is a dog\n",
        "model.predict(random_image.reshape(1, 32, 32, 3)).argmax()"
      ],
      "metadata": {
        "colab": {
          "base_uri": "https://localhost:8080/"
        },
        "id": "hEpoV8NsqAdp",
        "outputId": "53cf983f-e4ce-456b-d21e-4034d0497abb"
      },
      "execution_count": null,
      "outputs": [
        {
          "output_type": "execute_result",
          "data": {
            "text/plain": [
              "5"
            ]
          },
          "metadata": {},
          "execution_count": 28
        }
      ]
    },
    {
      "cell_type": "code",
      "source": [
        "# Boom Baby! the model predicted correctly.\n",
        "plt.imshow(random_image)"
      ],
      "metadata": {
        "colab": {
          "base_uri": "https://localhost:8080/",
          "height": 283
        },
        "id": "8p6RCb4BqMCO",
        "outputId": "e26778b0-3d5e-48eb-bb9f-6577d1e5269a"
      },
      "execution_count": null,
      "outputs": [
        {
          "output_type": "execute_result",
          "data": {
            "text/plain": [
              "<matplotlib.image.AxesImage at 0x7f72da446450>"
            ]
          },
          "metadata": {},
          "execution_count": 29
        },
        {
          "output_type": "display_data",
          "data": {
            "text/plain": [
              "<Figure size 432x288 with 1 Axes>"
            ],
            "image/png": "[encoded data removed]"
          },
          "metadata": {
            "needs_background": "light"
          }
        }
      ]
    },
    {
      "cell_type": "code",
      "source": [],
      "metadata": {
        "id": "DGk-DNVCqQvm"
      },
      "execution_count": null,
      "outputs": []
    }
  ]
}
